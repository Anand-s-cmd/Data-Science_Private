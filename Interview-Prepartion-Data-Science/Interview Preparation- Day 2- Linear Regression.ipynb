How To Learn Machine Learning Algorithms For Interviews
Linear Regression
Theoretical Understanding:
6 ways to test for a Normal Distribution — which one to use?
https://towardsdatascience.com/6-ways-to-test-for-a-normal-distribution-which-one-to-use-9dcf47d8fa93

https://www.youtube.com/watch?v=1-OGRohmH2s&list=PLZoTAELRMXVPBTrWtJkn3wWQxZkmTXGwe&index=29
https://www.youtube.com/watch?v=5rvnlZWzox8&list=PLZoTAELRMXVPBTrWtJkn3wWQxZkmTXGwe&index=34
https://www.youtube.com/watch?v=NAPhUDjgG_s&list=PLZoTAELRMXVPBTrWtJkn3wWQxZkmTXGwe&index=32
https://www.youtube.com/watch?v=WuuyD3Yr-js&list=PLZoTAELRMXVPBTrWtJkn3wWQxZkmTXGwe&index=35
https://www.youtube.com/watch?v=BqzgUnrNhFM&list=PLZoTAELRMXVPBTrWtJkn3wWQxZkmTXGwe&index=33
Interview Question on Multicollinearity
https://www.youtube.com/watch?v=tcaruVHXZwE
1. What Are the Basic Assumption?(favourite)
There are four assumptions associated with a linear regression model:

Linearity: The relationship between X and the mean of Y is linear.
Homoscedasticity: The variance of residual is the same for any value of X.
Independence: Observations are independent of each other.
Normality: For any fixed value of X, Y is normally distributed.
2. Advantages
Linear regression performs exceptionally well for linearly separable data
Easy to implement and train the model
It can handle overfitting using dimensionlity reduction techniques and cross validation and regularization
3. Disadvantages
Sometimes Lot of Feature Engineering Is required
If the independent features are correlated it may affect performance
It is often quite prone to noise and overfitting
4. Whether Feature Scaling is required?
Yes

5. Impact of Missing Values?
It is sensitive to missing values

6. Impact of outliers?
linear regression needs the relationship between the independent and dependent variables to be linear. It is also important to check for outliers since linear regression is sensitive to outlier effects.

image.png

Types of Problems it can solve(Supervised)
Regression
Overfitting And Underfitting
HomeWork?

Different Problem statement you can solve using Linear Regression
Advance House Price Prediction
Flight Price Prediction
Practical Implementation
https://scikit-learn.org/stable/modules/generated/sklearn.linear_model.LinearRegression.html
